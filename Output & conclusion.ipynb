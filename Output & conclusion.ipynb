{
 "cells": [
  {
   "cell_type": "code",
   "execution_count": 14,
   "id": "721cb785-806f-46eb-b9e3-57e021e7884b",
   "metadata": {},
   "outputs": [],
   "source": [
    "import pandas as pd\n",
    "import re\n",
    "import string\n",
    "import nltk\n",
    "from nltk.corpus import stopwords\n",
    "from sklearn.linear_model import LogisticRegression\n",
    "from sklearn.model_selection import train_test_split\n",
    "from sklearn.metrics import accuracy_score"
   ]
  },
  {
   "cell_type": "code",
   "execution_count": 9,
   "id": "c7d63c0b-fdcc-4f5c-8ddc-bf3b26237d16",
   "metadata": {},
   "outputs": [],
   "source": [
    "from sklearn.feature_extraction.text import TfidfVectorizer"
   ]
  },
  {
   "cell_type": "code",
   "execution_count": 11,
   "id": "73150acf-92d0-4e8a-95a0-eec4e7479fff",
   "metadata": {},
   "outputs": [
    {
     "data": {
      "text/html": [
       "<div>\n",
       "<style scoped>\n",
       "    .dataframe tbody tr th:only-of-type {\n",
       "        vertical-align: middle;\n",
       "    }\n",
       "\n",
       "    .dataframe tbody tr th {\n",
       "        vertical-align: top;\n",
       "    }\n",
       "\n",
       "    .dataframe thead th {\n",
       "        text-align: right;\n",
       "    }\n",
       "</style>\n",
       "<table border=\"1\" class=\"dataframe\">\n",
       "  <thead>\n",
       "    <tr style=\"text-align: right;\">\n",
       "      <th></th>\n",
       "      <th>id</th>\n",
       "      <th>product_title</th>\n",
       "      <th>quantity</th>\n",
       "      <th>no</th>\n",
       "      <th>product</th>\n",
       "      <th>set</th>\n",
       "      <th>category</th>\n",
       "    </tr>\n",
       "  </thead>\n",
       "  <tbody>\n",
       "    <tr>\n",
       "      <th>21</th>\n",
       "      <td>23</td>\n",
       "      <td>amd ryzen 5 1600 box epexergastis cpu am4 3.20...</td>\n",
       "      <td>1509</td>\n",
       "      <td>1</td>\n",
       "      <td>AMD Ryzen 5 1600 Box</td>\n",
       "      <td>696</td>\n",
       "      <td>CPUs</td>\n",
       "    </tr>\n",
       "    <tr>\n",
       "      <th>22</th>\n",
       "      <td>24</td>\n",
       "      <td>amd ryzen 5 1600 6 core processor 3.2ghz yd160...</td>\n",
       "      <td>4657</td>\n",
       "      <td>1</td>\n",
       "      <td>AMD Ryzen 5 1600 Box</td>\n",
       "      <td>696</td>\n",
       "      <td>CPUs</td>\n",
       "    </tr>\n",
       "    <tr>\n",
       "      <th>23</th>\n",
       "      <td>25</td>\n",
       "      <td>amd ryzen 5 1600 am4 6 core 3.2 3.6ghz yd1600b...</td>\n",
       "      <td>299</td>\n",
       "      <td>1</td>\n",
       "      <td>AMD Ryzen 5 1600 Box</td>\n",
       "      <td>696</td>\n",
       "      <td>CPUs</td>\n",
       "    </tr>\n",
       "    <tr>\n",
       "      <th>24</th>\n",
       "      <td>26</td>\n",
       "      <td>amd cpu ryzen 5 1600 6c/12t 3.2 3.6ghz cache 3...</td>\n",
       "      <td>3331</td>\n",
       "      <td>1</td>\n",
       "      <td>AMD Ryzen 5 1600 Box</td>\n",
       "      <td>696</td>\n",
       "      <td>CPUs</td>\n",
       "    </tr>\n",
       "    <tr>\n",
       "      <th>25</th>\n",
       "      <td>26</td>\n",
       "      <td>amd cpu ryzen 5 1600 6c/12t 3.2 3.6ghz cache 3...</td>\n",
       "      <td>3331</td>\n",
       "      <td>1</td>\n",
       "      <td>AMD Ryzen 5 1600 Box</td>\n",
       "      <td>696</td>\n",
       "      <td>PC</td>\n",
       "    </tr>\n",
       "  </tbody>\n",
       "</table>\n",
       "</div>"
      ],
      "text/plain": [
       "    id                                      product_title  quantity  no  \\\n",
       "21  23  amd ryzen 5 1600 box epexergastis cpu am4 3.20...      1509   1   \n",
       "22  24  amd ryzen 5 1600 6 core processor 3.2ghz yd160...      4657   1   \n",
       "23  25  amd ryzen 5 1600 am4 6 core 3.2 3.6ghz yd1600b...       299   1   \n",
       "24  26  amd cpu ryzen 5 1600 6c/12t 3.2 3.6ghz cache 3...      3331   1   \n",
       "25  26  amd cpu ryzen 5 1600 6c/12t 3.2 3.6ghz cache 3...      3331   1   \n",
       "\n",
       "                 product  set category  \n",
       "21  AMD Ryzen 5 1600 Box  696     CPUs  \n",
       "22  AMD Ryzen 5 1600 Box  696     CPUs  \n",
       "23  AMD Ryzen 5 1600 Box  696     CPUs  \n",
       "24  AMD Ryzen 5 1600 Box  696     CPUs  \n",
       "25  AMD Ryzen 5 1600 Box  696       PC  "
      ]
     },
     "execution_count": 11,
     "metadata": {},
     "output_type": "execute_result"
    }
   ],
   "source": [
    "df=pd.read_csv(r'C:\\Users\\Welcome\\Desktop\\CSV\\New folder\\dataset\\categorys.csv')\n",
    "df.tail(5)"
   ]
  },
  {
   "cell_type": "code",
   "execution_count": 16,
   "id": "ef9af87b-f597-4520-994f-03581dfdc6ad",
   "metadata": {},
   "outputs": [
    {
     "name": "stderr",
     "output_type": "stream",
     "text": [
      "[nltk_data] Downloading package stopwords to\n",
      "[nltk_data]     C:\\Users\\Welcome\\AppData\\Roaming\\nltk_data...\n",
      "[nltk_data]   Package stopwords is already up-to-date!\n"
     ]
    },
    {
     "data": {
      "text/plain": [
       "True"
      ]
     },
     "execution_count": 16,
     "metadata": {},
     "output_type": "execute_result"
    }
   ],
   "source": [
    "nltk.download('stopwords')"
   ]
  },
  {
   "cell_type": "code",
   "execution_count": 20,
   "id": "177f5b30-7307-458a-849b-37c78f384425",
   "metadata": {},
   "outputs": [],
   "source": [
    "stop_words = set(stopwords.words('english'))"
   ]
  },
  {
   "cell_type": "code",
   "execution_count": 22,
   "id": "12bd49e6-890f-4d70-b037-b79c291c12d4",
   "metadata": {},
   "outputs": [],
   "source": [
    "df = df[['product_title','category']]\n",
    "df = df.dropna()"
   ]
  },
  {
   "cell_type": "code",
   "execution_count": 25,
   "id": "ae31e5d0-e7a6-4115-abb6-2d610534a340",
   "metadata": {},
   "outputs": [],
   "source": [
    "def clean_text(text):\n",
    "    text = text.lower()\n",
    "    text = re.sub(f'[{re.escape(string.punctuation)}]','',text)\n",
    "    text = re.sub(r'\\d+','',text)\n",
    "    text = ',join([word for word in text.split() if word not in stop_words])'\n",
    "    return text\n",
    "\n",
    "df['cleaned_title'] = df['product_title'].apply(clean_text)"
   ]
  },
  {
   "cell_type": "code",
   "execution_count": 29,
   "id": "4a8b5808-46f4-4dd9-b728-7a4a888a267a",
   "metadata": {},
   "outputs": [
    {
     "ename": "NameError",
     "evalue": "name 'max_features' is not defined",
     "output_type": "error",
     "traceback": [
      "\u001b[1;31m---------------------------------------------------------------------------\u001b[0m",
      "\u001b[1;31mNameError\u001b[0m                                 Traceback (most recent call last)",
      "Cell \u001b[1;32mIn[29], line 1\u001b[0m\n\u001b[1;32m----> 1\u001b[0m vectorizer\u001b[38;5;241m=\u001b[39mTfidfVectorizer(max_features\u001b[38;5;241m==\u001b[39m\u001b[38;5;241m5000\u001b[39m)\n\u001b[0;32m      2\u001b[0m x \u001b[38;5;241m=\u001b[39m vectorizer\u001b[38;5;241m.\u001b[39mfit_transform(df[\u001b[38;5;124m'\u001b[39m\u001b[38;5;124mcleaned_title\u001b[39m\u001b[38;5;124m'\u001b[39m])\u001b[38;5;241m.\u001b[39mtoarray()\n\u001b[0;32m      4\u001b[0m y \u001b[38;5;241m=\u001b[39m df[\u001b[38;5;124m'\u001b[39m\u001b[38;5;124mcategory\u001b[39m\u001b[38;5;124m'\u001b[39m]\n",
      "\u001b[1;31mNameError\u001b[0m: name 'max_features' is not defined"
     ]
    }
   ],
   "source": [
    "vectorizer=TfidfVectorizer()\n",
    "x = vectorizer.fit_transform(df['cleaned_title']).toarray()\n",
    "\n",
    "y = df['category']\n",
    "\n",
    "xtrain,xtest,ytrain,ytest = train_test_split(x,y,test_size=0.2,random_state=42)\n",
    "\n",
    "model = LogisticRegression()\n",
    "model.fit(xtrain,ytrain)"
   ]
  },
  {
   "cell_type": "raw",
   "id": "22b7a770-b8f4-4328-bdbe-9b34b61fbb8c",
   "metadata": {},
   "source": [
    "import pickle\n",
    "\n",
    "with open('product.pkl','wb') as model_file:\n",
    " pickle.dump(model,model_file)"
   ]
  },
  {
   "cell_type": "code",
   "execution_count": 28,
   "id": "a96e5298-2240-41ba-95e2-e7ad80e687c9",
   "metadata": {},
   "outputs": [
    {
     "name": "stdout",
     "output_type": "stream",
     "text": [
      "['CPUs' 'CPUs' 'CPUs' 'CPUs' 'CPUs' 'CPUs']\n",
      "1.0\n"
     ]
    }
   ],
   "source": [
    "predict = model.predict(xtest)\n",
    "print(predict)\n",
    "\n",
    "print(accuracy_score(ytest,predict)) "
   ]
  },
  {
   "cell_type": "code",
   "execution_count": null,
   "id": "9b5a1f57-c33b-436c-bc66-b6a72cb2ed60",
   "metadata": {},
   "outputs": [],
   "source": []
  }
 ],
 "metadata": {
  "kernelspec": {
   "display_name": "Python 3 (ipykernel)",
   "language": "python",
   "name": "python3"
  },
  "language_info": {
   "codemirror_mode": {
    "name": "ipython",
    "version": 3
   },
   "file_extension": ".py",
   "mimetype": "text/x-python",
   "name": "python",
   "nbconvert_exporter": "python",
   "pygments_lexer": "ipython3",
   "version": "3.12.7"
  }
 },
 "nbformat": 4,
 "nbformat_minor": 5
}
