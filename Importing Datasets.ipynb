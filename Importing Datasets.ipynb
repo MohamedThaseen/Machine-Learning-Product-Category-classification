{
 "cells": [
  {
   "cell_type": "code",
   "execution_count": 8,
   "id": "721cb785-806f-46eb-b9e3-57e021e7884b",
   "metadata": {},
   "outputs": [],
   "source": [
    "import pandas as pd\n",
    "import re\n",
    "import string\n",
    "import nltk\n",
    "from nltk.corpus import stopwords\n",
    "from sklearn.linear_model import LogisticRegression\n",
    "from sklearn.model_selection import train_test_split\n",
    "from sklearn.metrics import accuracy_score"
   ]
  },
  {
   "cell_type": "code",
   "execution_count": 9,
   "id": "c7d63c0b-fdcc-4f5c-8ddc-bf3b26237d16",
   "metadata": {},
   "outputs": [],
   "source": [
    "from sklearn.feature_extraction.text import TfidfVectorizer"
   ]
  },
  {
   "cell_type": "code",
   "execution_count": 11,
   "id": "73150acf-92d0-4e8a-95a0-eec4e7479fff",
   "metadata": {},
   "outputs": [
    {
     "data": {
      "text/html": [
       "<div>\n",
       "<style scoped>\n",
       "    .dataframe tbody tr th:only-of-type {\n",
       "        vertical-align: middle;\n",
       "    }\n",
       "\n",
       "    .dataframe tbody tr th {\n",
       "        vertical-align: top;\n",
       "    }\n",
       "\n",
       "    .dataframe thead th {\n",
       "        text-align: right;\n",
       "    }\n",
       "</style>\n",
       "<table border=\"1\" class=\"dataframe\">\n",
       "  <thead>\n",
       "    <tr style=\"text-align: right;\">\n",
       "      <th></th>\n",
       "      <th>id</th>\n",
       "      <th>product_title</th>\n",
       "      <th>quantity</th>\n",
       "      <th>no</th>\n",
       "      <th>product</th>\n",
       "      <th>set</th>\n",
       "      <th>category</th>\n",
       "    </tr>\n",
       "  </thead>\n",
       "  <tbody>\n",
       "    <tr>\n",
       "      <th>21</th>\n",
       "      <td>23</td>\n",
       "      <td>amd ryzen 5 1600 box epexergastis cpu am4 3.20...</td>\n",
       "      <td>1509</td>\n",
       "      <td>1</td>\n",
       "      <td>AMD Ryzen 5 1600 Box</td>\n",
       "      <td>696</td>\n",
       "      <td>CPUs</td>\n",
       "    </tr>\n",
       "    <tr>\n",
       "      <th>22</th>\n",
       "      <td>24</td>\n",
       "      <td>amd ryzen 5 1600 6 core processor 3.2ghz yd160...</td>\n",
       "      <td>4657</td>\n",
       "      <td>1</td>\n",
       "      <td>AMD Ryzen 5 1600 Box</td>\n",
       "      <td>696</td>\n",
       "      <td>CPUs</td>\n",
       "    </tr>\n",
       "    <tr>\n",
       "      <th>23</th>\n",
       "      <td>25</td>\n",
       "      <td>amd ryzen 5 1600 am4 6 core 3.2 3.6ghz yd1600b...</td>\n",
       "      <td>299</td>\n",
       "      <td>1</td>\n",
       "      <td>AMD Ryzen 5 1600 Box</td>\n",
       "      <td>696</td>\n",
       "      <td>CPUs</td>\n",
       "    </tr>\n",
       "    <tr>\n",
       "      <th>24</th>\n",
       "      <td>26</td>\n",
       "      <td>amd cpu ryzen 5 1600 6c/12t 3.2 3.6ghz cache 3...</td>\n",
       "      <td>3331</td>\n",
       "      <td>1</td>\n",
       "      <td>AMD Ryzen 5 1600 Box</td>\n",
       "      <td>696</td>\n",
       "      <td>CPUs</td>\n",
       "    </tr>\n",
       "    <tr>\n",
       "      <th>25</th>\n",
       "      <td>26</td>\n",
       "      <td>amd cpu ryzen 5 1600 6c/12t 3.2 3.6ghz cache 3...</td>\n",
       "      <td>3331</td>\n",
       "      <td>1</td>\n",
       "      <td>AMD Ryzen 5 1600 Box</td>\n",
       "      <td>696</td>\n",
       "      <td>PC</td>\n",
       "    </tr>\n",
       "  </tbody>\n",
       "</table>\n",
       "</div>"
      ],
      "text/plain": [
       "    id                                      product_title  quantity  no  \\\n",
       "21  23  amd ryzen 5 1600 box epexergastis cpu am4 3.20...      1509   1   \n",
       "22  24  amd ryzen 5 1600 6 core processor 3.2ghz yd160...      4657   1   \n",
       "23  25  amd ryzen 5 1600 am4 6 core 3.2 3.6ghz yd1600b...       299   1   \n",
       "24  26  amd cpu ryzen 5 1600 6c/12t 3.2 3.6ghz cache 3...      3331   1   \n",
       "25  26  amd cpu ryzen 5 1600 6c/12t 3.2 3.6ghz cache 3...      3331   1   \n",
       "\n",
       "                 product  set category  \n",
       "21  AMD Ryzen 5 1600 Box  696     CPUs  \n",
       "22  AMD Ryzen 5 1600 Box  696     CPUs  \n",
       "23  AMD Ryzen 5 1600 Box  696     CPUs  \n",
       "24  AMD Ryzen 5 1600 Box  696     CPUs  \n",
       "25  AMD Ryzen 5 1600 Box  696       PC  "
      ]
     },
     "execution_count": 11,
     "metadata": {},
     "output_type": "execute_result"
    }
   ],
   "source": [
    "df=pd.read_csv(r'C:\\Users\\Welcome\\Desktop\\CSV\\New folder\\dataset\\categorys.csv')\n",
    "df.tail(5)"
   ]
  },
  {
   "cell_type": "code",
   "execution_count": null,
   "id": "ef9af87b-f597-4520-994f-03581dfdc6ad",
   "metadata": {},
   "outputs": [],
   "source": []
  }
 ],
 "metadata": {
  "kernelspec": {
   "display_name": "Python 3 (ipykernel)",
   "language": "python",
   "name": "python3"
  },
  "language_info": {
   "codemirror_mode": {
    "name": "ipython",
    "version": 3
   },
   "file_extension": ".py",
   "mimetype": "text/x-python",
   "name": "python",
   "nbconvert_exporter": "python",
   "pygments_lexer": "ipython3",
   "version": "3.12.7"
  }
 },
 "nbformat": 4,
 "nbformat_minor": 5
}
